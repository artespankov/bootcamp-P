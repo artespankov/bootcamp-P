{
 "cells": [
  {
   "cell_type": "code",
   "execution_count": 38,
   "metadata": {},
   "outputs": [
    {
     "data": {
      "text/plain": [
       "17"
      ]
     },
     "execution_count": 38,
     "metadata": {},
     "output_type": "execute_result"
    }
   ],
   "source": [
    "# pip install PyPDF2\n",
    "import PyPDF2\n",
    "f = open('Working_Business_Proposal.pdf', 'rb') # pdf required to be open in binary mode\n",
    "pdf_reader = PyPDF2.PdfFileReader(f)\n",
    "\n",
    "# pdf_reader.numPages\n",
    "# page_one = pdf_reader.pages[0]\n",
    "\n",
    "# for page in pdf_reader.pages:\n",
    "#     print(page.extractText())\n",
    "\n",
    "first_page = pdf_reader.getPage(0)\n",
    "pdf_writer = PyPDF2.PdfFileWriter()\n",
    "type(first_one)\n",
    "pdf_writer.addPage(first_page)\n",
    "pdf_output = open('Some_new_Doc.pdf', 'wb')\n",
    "pdf_writer.write(pdf_output)\n",
    "f.close()\n",
    "pdf_output.close()\n",
    "\n",
    "f = open('Exercise_Files/Find_the_Phone_Number.pdf', 'rb')\n",
    "pdf_reader = PyPDF2.PdfFileReader(f)\n",
    "pdf_reader.numPages"
   ]
  },
  {
   "cell_type": "code",
   "execution_count": 42,
   "metadata": {},
   "outputs": [
    {
     "name": "stdout",
     "output_type": "stream",
     "text": [
      "None\n",
      "None\n",
      "None\n",
      "None\n",
      "None\n",
      "None\n",
      "None\n",
      "None\n",
      "None\n",
      "None\n",
      "None\n",
      "None\n",
      "None\n",
      "None\n",
      "None\n",
      "None\n",
      "None\n"
     ]
    }
   ],
   "source": [
    "import re\n",
    "phones_numbers = []\n",
    "for i in range(pdf_reader.numPages):\n",
    "    print(re.search(r'(\\d{3}) \\d{4} \\d{4}', page.extractText()))"
   ]
  },
  {
   "cell_type": "code",
   "execution_count": null,
   "metadata": {},
   "outputs": [],
   "source": []
  },
  {
   "cell_type": "code",
   "execution_count": null,
   "metadata": {},
   "outputs": [],
   "source": []
  },
  {
   "cell_type": "code",
   "execution_count": null,
   "metadata": {},
   "outputs": [],
   "source": []
  },
  {
   "cell_type": "code",
   "execution_count": null,
   "metadata": {},
   "outputs": [],
   "source": []
  }
 ],
 "metadata": {
  "kernelspec": {
   "display_name": "Python 3",
   "language": "python",
   "name": "python3"
  },
  "language_info": {
   "codemirror_mode": {
    "name": "ipython",
    "version": 3
   },
   "file_extension": ".py",
   "mimetype": "text/x-python",
   "name": "python",
   "nbconvert_exporter": "python",
   "pygments_lexer": "ipython3",
   "version": "3.7.6"
  }
 },
 "nbformat": 4,
 "nbformat_minor": 4
}
