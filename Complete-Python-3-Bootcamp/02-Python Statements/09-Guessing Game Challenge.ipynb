{
 "cells": [
  {
   "cell_type": "markdown",
   "metadata": {},
   "source": [
    "___\n",
    "\n",
    "<a href='https://www.udemy.com/user/joseportilla/'><img src='../Pierian_Data_Logo.png'/></a>\n",
    "___\n",
    "<center><em>Content Copyright by Pierian Data</em></center>"
   ]
  },
  {
   "cell_type": "markdown",
   "metadata": {},
   "source": [
    "# Guessing Game Challenge\n",
    "\n",
    "Let's use `while` loops to create a guessing game.\n",
    "\n",
    "The Challenge:\n",
    "\n",
    "Write a program that picks a random integer from 1 to 100, and has players guess the number. The rules are:\n",
    "\n",
    "1. If a player's guess is less than 1 or greater than 100, say \"OUT OF BOUNDS\"\n",
    "2. On a player's first turn, if their guess is\n",
    " * within 10 of the number, return \"WARM!\"\n",
    " * further than 10 away from the number, return \"COLD!\"\n",
    "3. On all subsequent turns, if a guess is \n",
    " * closer to the number than the previous guess return \"WARMER!\"\n",
    " * farther from the number than the previous guess, return \"COLDER!\"\n",
    "4. When the player's guess equals the number, tell them they've guessed correctly *and* how many guesses it took!\n",
    "\n",
    "You can try this from scratch, or follow the steps outlined below. A separate Solution notebook has been provided. Good luck!\n"
   ]
  },
  {
   "cell_type": "markdown",
   "metadata": {},
   "source": [
    "#### First, pick a random integer from 1 to 100 using the random module and assign it to a variable\n",
    "\n",
    "Note: `random.randint(a,b)` returns a random integer in range `[a, b]`, including both end points."
   ]
  },
  {
   "cell_type": "code",
   "execution_count": null,
   "metadata": {
    "collapsed": true
   },
   "outputs": [],
   "source": [
    "holy_graal = random.randint(1, 100)"
   ]
  },
  {
   "cell_type": "markdown",
   "metadata": {},
   "source": [
    "#### Next, print an introduction to the game and explain the rules"
   ]
  },
  {
   "cell_type": "code",
   "execution_count": null,
   "metadata": {
    "collapsed": true
   },
   "outputs": [],
   "source": [
    "print(\"Hey, piligrim!\")\n",
    "print(\"\"\"You should guess a number within 1 and 100 borders. \n",
    "        \\nIf you're not as far from the goal as 10 points - the Dragon's nest will shout at you: 'WARM!'\n",
    "        \\nand 'COLD!'' otherwise. \n",
    "        \\nIt should be a piece of cake for you - cause it will help you even further - shouting 'WARMER!'\n",
    "        \\nif any of your subsequent quesses are closer to goal then previous but 'COLDER!' otherwise\"\"\")"
   ]
  },
  {
   "cell_type": "markdown",
   "metadata": {},
   "source": [
    "#### Create a list to store guesses\n",
    "\n",
    "Hint: zero is a good placeholder value. It's useful because it evaluates to \"False\""
   ]
  },
  {
   "cell_type": "code",
   "execution_count": null,
   "metadata": {
    "collapsed": true
   },
   "outputs": [],
   "source": [
    "trials = []"
   ]
  },
  {
   "cell_type": "markdown",
   "metadata": {},
   "source": [
    "#### Write a `while` loop that asks for a valid guess. Test it a few times to make sure it works."
   ]
  },
  {
   "cell_type": "code",
   "execution_count": null,
   "metadata": {},
   "outputs": [
    {
     "name": "stdout",
     "output_type": "stream",
     "text": [
      "Your guess?\n",
      "10\n",
      "Your guess?\n",
      "20\n",
      "Your guess?\n",
      "30\n",
      "Your guess?\n",
      "40\n",
      "Your guess?\n",
      "50\n"
     ]
    }
   ],
   "source": [
    "while True:\n",
    "    guess = int(input(\"Your guess?\\n\"))"
   ]
  },
  {
   "cell_type": "markdown",
   "metadata": {},
   "source": [
    "#### Write a `while` loop that compares the player's guess to our number. If the player guesses correctly, break from the loop. Otherwise, tell the player if they're warmer or colder, and continue asking for guesses.\n",
    "\n",
    "Some hints:\n",
    "* it may help to sketch out all possible combinations on paper first!\n",
    "* you can use the `abs()` function to find the positive difference between two numbers\n",
    "* if you append all new guesses to the list, then the previous guess is given as `guesses[-2]`"
   ]
  },
  {
   "cell_type": "code",
   "execution_count": 6,
   "metadata": {},
   "outputs": [
    {
     "name": "stdout",
     "output_type": "stream",
     "text": [
      "Hey, piligrim!\n",
      "You should guess a number within 1 and 100 borders. \n",
      "        \n",
      "On you very first try: If you're not as far from the goal as 10 points - the Dragon's nest will shout at you: 'WARM!'\n",
      "        \n",
      "and 'COLD!'' otherwise. \n",
      "        \n",
      "It should be a piece of cake for you - cause it will help you even further - shouting 'WARMER!'\n",
      "        \n",
      "if any of your subsequent quesses are closer to goal then previous but 'COLDER!' otherwise\n",
      "Your guess?\n",
      "11\n",
      "COLD!\n",
      "Your guess?\n",
      "15\n",
      "WARMER!\n",
      "Your guess?\n",
      "20\n",
      "WARMER!\n",
      "Your guess?\n",
      "40\n",
      "WARMER!\n",
      "Your guess?\n",
      "50\n",
      "WARMER!\n",
      "Your guess?\n",
      "60\n",
      "WARMER!\n",
      "Your guess?\n",
      "9\n",
      "COLDER!\n",
      "Your guess?\n",
      "10\n",
      "WARMER!\n",
      "Your guess?\n",
      "11\n",
      "WARMER!\n",
      "Your guess?\n",
      "12\n",
      "WARMER!\n",
      "Your guess?\n",
      "15\n",
      "WARMER!\n",
      "Your guess?\n",
      "16\n",
      "WARMER!\n",
      "Your guess?\n",
      "17\n",
      "WARMER!\n",
      "Your guess?\n",
      "18\n",
      "WARMER!\n",
      "Your guess?\n",
      "19\n",
      "WARMER!\n",
      "Your guess?\n",
      "20\n",
      "WARMER!\n",
      "Your guess?\n",
      "21\n",
      "WARMER!\n",
      "Your guess?\n",
      "22\n",
      "WARMER!\n",
      "Your guess?\n",
      "3\n",
      "COLDER!\n",
      "Your guess?\n",
      "27\n",
      "WARMER!\n",
      "Your guess?\n",
      "28\n",
      "WARMER!\n",
      "Your guess?\n",
      "29\n",
      "WARMER!\n",
      "Your guess?\n",
      "30\n",
      "WARMER!\n",
      "Your guess?\n",
      "32\n",
      "WARMER!\n",
      "Your guess?\n",
      "32\n",
      "COLDER!\n",
      "Your guess?\n",
      "50\n",
      "WARMER!\n",
      "Your guess?\n",
      "55\n",
      "WARMER!\n",
      "Your guess?\n",
      "60\n",
      "WARMER!\n",
      "Your guess?\n",
      "70\n",
      "WARMER!\n",
      "Your guess?\n",
      "75\n",
      "WARMER!\n",
      "Your guess?\n",
      "5\n",
      "COLDER!\n",
      "Your guess?\n",
      "76\n",
      "WARMER!\n",
      "Your guess?\n",
      "79\n",
      "WARMER!\n",
      "Your guess?\n",
      "80\n",
      "WARMER!\n",
      "Your guess?\n",
      "99\n",
      "COLDER!\n",
      "Your guess?\n",
      "85\n",
      "WARMER!\n",
      "Your guess?\n",
      "89\n",
      "COLDER!\n",
      "Your guess?\n",
      "87\n",
      "Congrats lucky! It took only 38 tries.\n"
     ]
    }
   ],
   "source": [
    "import random\n",
    "import time\n",
    "holy_graal = random.randint(1, 100)\n",
    "trials = []\n",
    "print(\"Hey, piligrim!\")\n",
    "print(\"\"\"You should guess a number within 1 and 100 borders. \n",
    "        \\nOn you very first try: If you're not as far from the goal as 10 points - the Dragon's nest will shout at you: 'WARM!'\n",
    "        \\nand 'COLD!'' otherwise. \n",
    "        \\nIt should be a piece of cake for you - cause it will help you even further - shouting 'WARMER!'\n",
    "        \\nif any of your subsequent quesses are closer to goal then previous but 'COLDER!' otherwise\"\"\")\n",
    "time.sleep(2)\n",
    "\n",
    "while True:\n",
    "    try:\n",
    "        guess = int(input(\"Your guess?\\n\"))\n",
    "    except Exception:\n",
    "        continue\n",
    "    trials.append(guess)\n",
    "    trials_amount = len(trials)\n",
    "    if guess == holy_graal:\n",
    "        print(f\"Congrats lucky! It took only {trials_amount} tries.\")\n",
    "        break\n",
    "\n",
    "    diff = abs(holy_graal - guess)\n",
    "    if trials_amount > 1:\n",
    "        if diff < abs(holy_graal - trials[-2]):\n",
    "            print(\"WARMER!\")\n",
    "        else:\n",
    "            print(\"COLDER!\")\n",
    "    else:\n",
    "        if diff <= 10:\n",
    "            print(\"WARM!\")\n",
    "        else:\n",
    "            print(\"COLD!\")"
   ]
  },
  {
   "cell_type": "code",
   "execution_count": null,
   "metadata": {},
   "outputs": [],
   "source": []
  },
  {
   "cell_type": "markdown",
   "metadata": {},
   "source": [
    "That's it! You've just programmed your first game!\n",
    "\n",
    "In the next section we'll learn how to turn some of these repetitive actions into *functions* that can be called whenever we need them."
   ]
  },
  {
   "cell_type": "markdown",
   "metadata": {},
   "source": [
    "### Good Job!"
   ]
  }
 ],
 "metadata": {
  "kernelspec": {
   "display_name": "Python 3",
   "language": "python",
   "name": "python3"
  },
  "language_info": {
   "codemirror_mode": {
    "name": "ipython",
    "version": 3
   },
   "file_extension": ".py",
   "mimetype": "text/x-python",
   "name": "python",
   "nbconvert_exporter": "python",
   "pygments_lexer": "ipython3",
   "version": "3.7.6"
  }
 },
 "nbformat": 4,
 "nbformat_minor": 2
}
