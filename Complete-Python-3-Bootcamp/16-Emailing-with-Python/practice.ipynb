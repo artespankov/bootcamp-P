{
 "cells": [
  {
   "cell_type": "code",
   "execution_count": null,
   "metadata": {},
   "outputs": [],
   "source": [
    "# SEND EMAILS via google smtp server\n",
    "import smtplib\n",
    "import getpass\n",
    "smtp= smtplib.SMTP('smtp.gmail.com', 587)\n",
    "smtp.ehlo() #greets server, establish connection\n",
    "smtp.starttls() #port 587 makes emails sent over connection encrypted using TLS\n",
    "email = input(\"email: \")\n",
    "password=getpass.getpass('password: ')\n",
    "smtp.login(email, password) #login with app password for gmail account\n",
    "smtp.sendmail(email, email, \"subject and message\")\n"
   ]
  },
  {
   "cell_type": "code",
   "execution_count": 6,
   "metadata": {},
   "outputs": [],
   "source": [
    "# RECIEVE EMAIL via google imap server\n",
    "import imaplib\n",
    "import getpass\n",
    "m = imaplib.IMAP4_SSL('imap.gmail.com')\n",
    "email=getpass.getpass('email')\n",
    "password=getpass.getpass('password')\n",
    "m.login(email, password)\n",
    "m.list()\n",
    "m.select('INBOX')\n",
    "result, data = m.search(None, 'SUBJECT \"App password created\"')\n",
    "email_id = data[0]\n",
    "result, email_data = m.fetch(email_id, '(RFC822)')\n",
    "raw_email_string = email_data[0][1].decode('utf-8')\n",
    "import email\n",
    "email_msg = email.message_from_string(raw_email_string)\n",
    "for part in email_msg.walk():\n",
    "    if part.get_content_type() == 'text/plain':\n",
    "        body = part.get_payload(decode=True)\n",
    "        print(body)"
   ]
  }
 ],
 "metadata": {
  "kernelspec": {
   "display_name": "Python 3",
   "language": "python",
   "name": "python3"
  },
  "language_info": {
   "codemirror_mode": {
    "name": "ipython",
    "version": 3
   },
   "file_extension": ".py",
   "mimetype": "text/x-python",
   "name": "python",
   "nbconvert_exporter": "python",
   "pygments_lexer": "ipython3",
   "version": "3.7.6"
  }
 },
 "nbformat": 4,
 "nbformat_minor": 4
}
